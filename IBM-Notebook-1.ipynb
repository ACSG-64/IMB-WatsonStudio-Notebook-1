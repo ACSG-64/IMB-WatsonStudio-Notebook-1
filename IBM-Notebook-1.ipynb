{
    "cells": [
        {
            "cell_type": "markdown",
            "metadata": {},
            "source": "# My Jupyter Notebook on IBM Data Science Experience"
        },
        {
            "cell_type": "markdown",
            "metadata": {},
            "source": "**Andr\u00e9s Camilo Sarmiento Garz\u00f3n**  \nI am currently a student and would like to become a computer scientist"
        },
        {
            "cell_type": "markdown",
            "metadata": {},
            "source": "_I am interested in data science because any area of knowledge requires quality data and generates other data that must be given value to be exploited. The fact of being able to analyze enormous amounts of data and to give them value with the help of technology allows us to understand the world in an integral way, relating diverse variables to generate a vision with a lot of value of our environment allowing us to improve our activities, to enrich the capacities of our inventions or to plan appropriate strategies to achieve success._"
        },
        {
            "cell_type": "markdown",
            "metadata": {},
            "source": "### The following code shows how many years ago the first transistor in history was created"
        },
        {
            "cell_type": "code",
            "execution_count": 6,
            "metadata": {},
            "outputs": [
                {
                    "name": "stdout",
                    "output_type": "stream",
                    "text": "The transistor was created 73 years ago!\n"
                }
            ],
            "source": "transistorYear = 1947\ncurrentYear = 2020\nprint(\"The transistor was created\", currentYear - transistorYear, \"years ago!\")"
        },
        {
            "cell_type": "markdown",
            "metadata": {},
            "source": "***\n## Artemis program phase 1\n<img src=https://www.nasa.gov/sites/default/files/thumbnails/image/artemis_identity_animated-650.gif>\n\n1. **Artemis 1**: First human spacecraft to the moon in the 21st century.\n\n2. **Artemis 2**: First humans to the moon in the 21st century.\n\n3. **Artemis 3**: Crewed mission gateway and lunnar surface.  \n \n \n+ Artemis 3 will have:\n  - A high power solar electric propulsion (SEP) system.\n  - A pressurized crew module delivered to gateway. \n\n> ### _Humanity's return to the moon_\n  \nFor more information [clic here](https://www.nasa.gov/artemis-1)\n"
        }
    ],
    "metadata": {
        "kernelspec": {
            "display_name": "Python 3.6 with Spark",
            "language": "python3",
            "name": "python36"
        },
        "language_info": {
            "codemirror_mode": {
                "name": "ipython",
                "version": 3
            },
            "file_extension": ".py",
            "mimetype": "text/x-python",
            "name": "python",
            "nbconvert_exporter": "python",
            "pygments_lexer": "ipython3",
            "version": "3.6.8"
        }
    },
    "nbformat": 4,
    "nbformat_minor": 1
}
